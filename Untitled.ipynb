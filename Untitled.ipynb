{
 "cells": [
  {
   "cell_type": "code",
   "execution_count": 1,
   "id": "f30cca74-e310-4544-b014-6f507ca322f8",
   "metadata": {},
   "outputs": [],
   "source": [
    "s = \"hello, what's your name?\"\n",
    "# Уберем запятую и вопросительный знак\n",
    "s = s.replace(',', '').replace('?', '')"
   ]
  },
  {
   "cell_type": "code",
   "execution_count": 3,
   "id": "3fd4e548-eef4-4f66-929e-18c6a4732bad",
   "metadata": {},
   "outputs": [
    {
     "data": {
      "text/plain": [
       "\"hello what's your name\""
      ]
     },
     "execution_count": 3,
     "metadata": {},
     "output_type": "execute_result"
    }
   ],
   "source": [
    "s\n"
   ]
  },
  {
   "cell_type": "code",
   "execution_count": 5,
   "id": "ee68f6f3-bc54-4167-b842-4edd727373bf",
   "metadata": {},
   "outputs": [],
   "source": [
    "s = s.replace('e','123213132')"
   ]
  },
  {
   "cell_type": "code",
   "execution_count": 7,
   "id": "0d8edc66-3262-47c5-bf1d-14a7d23cb149",
   "metadata": {},
   "outputs": [
    {
     "data": {
      "text/plain": [
       "\"h123213132llo what's your nam123213132\""
      ]
     },
     "execution_count": 7,
     "metadata": {},
     "output_type": "execute_result"
    }
   ],
   "source": [
    "s"
   ]
  },
  {
   "cell_type": "code",
   "execution_count": 15,
   "id": "42f92959-dbcc-404c-a8bb-778137eebc77",
   "metadata": {},
   "outputs": [
    {
     "name": "stdin",
     "output_type": "stream",
     "text": [
      "dfd: 3.4\n"
     ]
    },
    {
     "name": "stdout",
     "output_type": "stream",
     "text": [
      "3.4\n"
     ]
    }
   ],
   "source": [
    "s = float(input(\"dfd:\"))\n",
    "print(s)"
   ]
  },
  {
   "cell_type": "code",
   "execution_count": 17,
   "id": "e9aee503-9d4c-4baf-9cc5-9c6bdc3371e3",
   "metadata": {},
   "outputs": [
    {
     "name": "stdin",
     "output_type": "stream",
     "text": [
      "Как тебя зовут: K\n"
     ]
    },
    {
     "name": "stdout",
     "output_type": "stream",
     "text": [
      "Hello K\n"
     ]
    }
   ],
   "source": [
    "s = input(\"Как тебя зовут:\")\n",
    "print(\"Hello\", s)"
   ]
  },
  {
   "cell_type": "code",
   "execution_count": 23,
   "id": "70ab1229-b0ec-4aac-b8df-53f04bd42bb5",
   "metadata": {},
   "outputs": [
    {
     "name": "stdin",
     "output_type": "stream",
     "text": [
      "Температура 3\n"
     ]
    },
    {
     "name": "stdout",
     "output_type": "stream",
     "text": [
      "37.4\n"
     ]
    }
   ],
   "source": [
    "t1 = float(input(\"Температура\"))\n",
    "t2 = t1 * 1.8 + 32\n",
    "print(t2)           "
   ]
  },
  {
   "cell_type": "code",
   "execution_count": 27,
   "id": "69982674-3934-43ef-bcac-b31043215271",
   "metadata": {},
   "outputs": [
    {
     "name": "stdin",
     "output_type": "stream",
     "text": [
      "Число1: 2\n",
      "Число2: 4\n"
     ]
    },
    {
     "name": "stdout",
     "output_type": "stream",
     "text": [
      "4\n"
     ]
    }
   ],
   "source": [
    "x = int(input(\"Число1:\"))\n",
    "x2 = int(input(\"Число2:\"))\n",
    "if x > x2:\n",
    "    print(x)\n",
    "else:\n",
    "    print(x2)\n",
    "        "
   ]
  },
  {
   "cell_type": "code",
   "execution_count": 39,
   "id": "05bbf263-748d-4f1d-a829-90ee60d29946",
   "metadata": {},
   "outputs": [
    {
     "name": "stdout",
     "output_type": "stream",
     "text": [
      "Покупка оплачена частично, осталось оплатить 10\n"
     ]
    }
   ],
   "source": [
    "account = 100\n",
    "order = 110\n",
    "if account >= order:\n",
    "    account -= order\n",
    "    print('Покупка на сумму', order, 'прошла успешно')\n",
    "elif account > 0:\n",
    "    to_pay = order - account\n",
    "    account = 0\n",
    "    print('Покупка оплачена частично, осталось оплатить', to_pay)\n",
    "else:\n",
    "    print('Недостаточно денег')"
   ]
  },
  {
   "cell_type": "code",
   "execution_count": 7,
   "id": "b95c63e7-ada3-47c7-8435-0b2dde11515a",
   "metadata": {},
   "outputs": [
    {
     "name": "stdin",
     "output_type": "stream",
     "text": [
      "Время 1\n",
      "Cкорость 110\n"
     ]
    },
    {
     "name": "stdout",
     "output_type": "stream",
     "text": [
      "1\n"
     ]
    }
   ],
   "source": [
    "t = int(input(\"Время\"))\n",
    "u = int(input(\"Cкорость\"))\n",
    "s = t*u\n",
    "if s > 109:\n",
    "    s = s - 109\n",
    "    while s > 109:\n",
    "        s = s - 109\n",
    "    print(s)"
   ]
  },
  {
   "cell_type": "code",
   "execution_count": 47,
   "id": "f7f13ae6-7ca3-4265-9aaa-c7387b244e06",
   "metadata": {},
   "outputs": [
    {
     "ename": "SyntaxError",
     "evalue": "expected ':' (1080068119.py, line 8)",
     "output_type": "error",
     "traceback": [
      "\u001b[1;36m  Cell \u001b[1;32mIn[47], line 8\u001b[1;36m\u001b[0m\n\u001b[1;33m    elif x1 == x2 or x2 == x3\u001b[0m\n\u001b[1;37m                             ^\u001b[0m\n\u001b[1;31mSyntaxError\u001b[0m\u001b[1;31m:\u001b[0m expected ':'\n"
     ]
    }
   ],
   "source": [
    "x1 = int(input(\"x1\"))\n",
    "x2 = int(input(\"x2\"))\n",
    "x3 = int(input(\"x3\"))\n",
    "if x1 == x2 and x1 == x3 :\n",
    "    print(\"3\")\n",
    "elif x1 != x2 and x1 != x3 and x2 != x3:\n",
    "    print(\"1\")\n",
    "elif x1 == x2 or x2 == x3\n",
    "\n",
    "\n"
   ]
  },
  {
   "cell_type": "code",
   "execution_count": 49,
   "id": "9d08d218-a4d5-4c58-b12f-d7656d3d508a",
   "metadata": {},
   "outputs": [
    {
     "name": "stdin",
     "output_type": "stream",
     "text": [
      " 1\n",
      " 3\n",
      " 1\n"
     ]
    },
    {
     "name": "stdout",
     "output_type": "stream",
     "text": [
      "2\n"
     ]
    }
   ],
   "source": [
    "a = int(input())\n",
    "b = int(input())\n",
    "c = int(input())\n",
    "\n",
    "if a == b == c:\n",
    "    print(3)\n",
    "elif a == b or a == c or b == c:\n",
    "    print(2)\n",
    "else:\n",
    "    print(0)"
   ]
  },
  {
   "cell_type": "code",
   "execution_count": 51,
   "id": "d0669ddc-39a9-4951-9fc3-eb5830dd476a",
   "metadata": {},
   "outputs": [
    {
     "name": "stdout",
     "output_type": "stream",
     "text": [
      "number = 1\n",
      "number = 2\n",
      "number = 3\n",
      "number = 4\n",
      "Работа программы завершена\n"
     ]
    }
   ],
   "source": [
    "number = 1\n",
    " \n",
    "while number < 5:\n",
    "    print(f\"number = {number}\")\n",
    "    number += 1\n",
    "print(\"Работа программы завершена\")"
   ]
  },
  {
   "cell_type": "code",
   "execution_count": 55,
   "id": "8c687eee-897b-4f71-9596-44527438fb11",
   "metadata": {},
   "outputs": [
    {
     "name": "stdin",
     "output_type": "stream",
     "text": [
      " ryqwe\n",
      "введите пароль sdsdfdsfsd\n"
     ]
    },
    {
     "name": "stdout",
     "output_type": "stream",
     "text": [
      "sdsdfdsfsd\n"
     ]
    }
   ],
   "source": [
    "psw = input()\n",
    "while len(psw) < 8:\n",
    "    psw = input(\"введите пароль\")\n",
    "print(psw)"
   ]
  },
  {
   "cell_type": "code",
   "execution_count": null,
   "id": "64df3c7f-0da5-4c2c-95cc-e025fc6862d9",
   "metadata": {},
   "outputs": [],
   "source": []
  }
 ],
 "metadata": {
  "kernelspec": {
   "display_name": "Python [conda env:base] *",
   "language": "python",
   "name": "conda-base-py"
  },
  "language_info": {
   "codemirror_mode": {
    "name": "ipython",
    "version": 3
   },
   "file_extension": ".py",
   "mimetype": "text/x-python",
   "name": "python",
   "nbconvert_exporter": "python",
   "pygments_lexer": "ipython3",
   "version": "3.11.7"
  }
 },
 "nbformat": 4,
 "nbformat_minor": 5
}
